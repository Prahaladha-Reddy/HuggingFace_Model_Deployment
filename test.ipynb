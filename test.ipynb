{
 "cells": [
  {
   "cell_type": "code",
   "execution_count": 1,
   "metadata": {},
   "outputs": [],
   "source": [
    "import boto3"
   ]
  },
  {
   "cell_type": "code",
   "execution_count": 2,
   "metadata": {},
   "outputs": [],
   "source": [
    "ec2=boto3.client('ec2')"
   ]
  },
  {
   "cell_type": "code",
   "execution_count": 3,
   "metadata": {},
   "outputs": [
    {
     "data": {
      "text/plain": [
       "{'Reservations': [],\n",
       " 'ResponseMetadata': {'RequestId': '5b18d24c-2270-4bd2-8a36-51c7db5694bb',\n",
       "  'HTTPStatusCode': 200,\n",
       "  'HTTPHeaders': {'x-amzn-requestid': '5b18d24c-2270-4bd2-8a36-51c7db5694bb',\n",
       "   'cache-control': 'no-cache, no-store',\n",
       "   'strict-transport-security': 'max-age=31536000; includeSubDomains',\n",
       "   'content-type': 'text/xml;charset=UTF-8',\n",
       "   'content-length': '219',\n",
       "   'date': 'Sun, 29 Dec 2024 04:32:20 GMT',\n",
       "   'server': 'AmazonEC2'},\n",
       "  'RetryAttempts': 0}}"
      ]
     },
     "execution_count": 3,
     "metadata": {},
     "output_type": "execute_result"
    }
   ],
   "source": [
    "ec2.describe_instances()"
   ]
  },
  {
   "cell_type": "code",
   "execution_count": 4,
   "metadata": {},
   "outputs": [],
   "source": [
    "response=ec2.run_instances(\n",
    "  MaxCount=1,\n",
    "  MinCount=1,\n",
    "  ImageId='ami-0e2c8caa4b6378d8c',\n",
    "  KeyName='Prahalad_ReddyKEY',\n",
    "  InstanceType='t3.micro',\n",
    "  BlockDeviceMappings=[\n",
    "    {\n",
    "      'DeviceName':\"/dev/xvda\",\n",
    "      'Ebs':{\n",
    "        'DeleteOnTermination':True,\n",
    "        'VolumeSize':20\n",
    "      }\n",
    "    }\n",
    "  ]\n",
    ")"
   ]
  },
  {
   "cell_type": "code",
   "execution_count": 5,
   "metadata": {},
   "outputs": [
    {
     "data": {
      "text/plain": [
       "{'ReservationId': 'r-00b0e6f74621b838c',\n",
       " 'OwnerId': '396913733336',\n",
       " 'Groups': [],\n",
       " 'Instances': [{'Architecture': 'x86_64',\n",
       "   'BlockDeviceMappings': [],\n",
       "   'ClientToken': '11e3dcc9-6eab-490a-8f95-84992b6fe83a',\n",
       "   'EbsOptimized': False,\n",
       "   'EnaSupport': True,\n",
       "   'Hypervisor': 'xen',\n",
       "   'NetworkInterfaces': [{'Attachment': {'AttachTime': datetime.datetime(2024, 12, 29, 4, 37, 25, tzinfo=tzutc()),\n",
       "      'AttachmentId': 'eni-attach-0addf85b2a0b44105',\n",
       "      'DeleteOnTermination': True,\n",
       "      'DeviceIndex': 0,\n",
       "      'Status': 'attaching',\n",
       "      'NetworkCardIndex': 0},\n",
       "     'Description': '',\n",
       "     'Groups': [{'GroupId': 'sg-070063af08eaeef2d', 'GroupName': 'default'}],\n",
       "     'Ipv6Addresses': [],\n",
       "     'MacAddress': '12:1d:e2:ef:25:73',\n",
       "     'NetworkInterfaceId': 'eni-03c0e771330689ff5',\n",
       "     'OwnerId': '396913733336',\n",
       "     'PrivateDnsName': 'ip-172-31-90-169.ec2.internal',\n",
       "     'PrivateIpAddress': '172.31.90.169',\n",
       "     'PrivateIpAddresses': [{'Primary': True,\n",
       "       'PrivateDnsName': 'ip-172-31-90-169.ec2.internal',\n",
       "       'PrivateIpAddress': '172.31.90.169'}],\n",
       "     'SourceDestCheck': True,\n",
       "     'Status': 'in-use',\n",
       "     'SubnetId': 'subnet-0c04a7cebe904f4ab',\n",
       "     'VpcId': 'vpc-01a66cd7033b26a22',\n",
       "     'InterfaceType': 'interface',\n",
       "     'Operator': {'Managed': False}}],\n",
       "   'RootDeviceName': '/dev/sda1',\n",
       "   'RootDeviceType': 'ebs',\n",
       "   'SecurityGroups': [{'GroupId': 'sg-070063af08eaeef2d',\n",
       "     'GroupName': 'default'}],\n",
       "   'SourceDestCheck': True,\n",
       "   'StateReason': {'Code': 'pending', 'Message': 'pending'},\n",
       "   'VirtualizationType': 'hvm',\n",
       "   'CpuOptions': {'CoreCount': 1, 'ThreadsPerCore': 2},\n",
       "   'CapacityReservationSpecification': {'CapacityReservationPreference': 'open'},\n",
       "   'MetadataOptions': {'State': 'pending',\n",
       "    'HttpTokens': 'required',\n",
       "    'HttpPutResponseHopLimit': 2,\n",
       "    'HttpEndpoint': 'enabled',\n",
       "    'HttpProtocolIpv6': 'disabled',\n",
       "    'InstanceMetadataTags': 'disabled'},\n",
       "   'EnclaveOptions': {'Enabled': False},\n",
       "   'BootMode': 'uefi-preferred',\n",
       "   'PrivateDnsNameOptions': {'HostnameType': 'ip-name',\n",
       "    'EnableResourceNameDnsARecord': False,\n",
       "    'EnableResourceNameDnsAAAARecord': False},\n",
       "   'MaintenanceOptions': {'AutoRecovery': 'default'},\n",
       "   'CurrentInstanceBootMode': 'uefi',\n",
       "   'Operator': {'Managed': False},\n",
       "   'InstanceId': 'i-0374bd42224a2a679',\n",
       "   'ImageId': 'ami-0e2c8caa4b6378d8c',\n",
       "   'State': {'Code': 0, 'Name': 'pending'},\n",
       "   'PrivateDnsName': 'ip-172-31-90-169.ec2.internal',\n",
       "   'PublicDnsName': '',\n",
       "   'StateTransitionReason': '',\n",
       "   'KeyName': 'Prahalad_ReddyKEY',\n",
       "   'AmiLaunchIndex': 0,\n",
       "   'ProductCodes': [],\n",
       "   'InstanceType': 't3.micro',\n",
       "   'LaunchTime': datetime.datetime(2024, 12, 29, 4, 37, 25, tzinfo=tzutc()),\n",
       "   'Placement': {'GroupName': '',\n",
       "    'Tenancy': 'default',\n",
       "    'AvailabilityZone': 'us-east-1a'},\n",
       "   'Monitoring': {'State': 'disabled'},\n",
       "   'SubnetId': 'subnet-0c04a7cebe904f4ab',\n",
       "   'VpcId': 'vpc-01a66cd7033b26a22',\n",
       "   'PrivateIpAddress': '172.31.90.169'}],\n",
       " 'ResponseMetadata': {'RequestId': '552c1d88-ef94-40e7-a429-cc077210243f',\n",
       "  'HTTPStatusCode': 200,\n",
       "  'HTTPHeaders': {'x-amzn-requestid': '552c1d88-ef94-40e7-a429-cc077210243f',\n",
       "   'cache-control': 'no-cache, no-store',\n",
       "   'strict-transport-security': 'max-age=31536000; includeSubDomains',\n",
       "   'vary': 'accept-encoding',\n",
       "   'content-type': 'text/xml;charset=UTF-8',\n",
       "   'content-length': '3763',\n",
       "   'date': 'Sun, 29 Dec 2024 04:37:24 GMT',\n",
       "   'server': 'AmazonEC2'},\n",
       "  'RetryAttempts': 0}}"
      ]
     },
     "execution_count": 5,
     "metadata": {},
     "output_type": "execute_result"
    }
   ],
   "source": [
    "response"
   ]
  },
  {
   "cell_type": "code",
   "execution_count": 7,
   "metadata": {},
   "outputs": [],
   "source": [
    "response=ec2.describe_instances()"
   ]
  },
  {
   "cell_type": "code",
   "execution_count": 8,
   "metadata": {},
   "outputs": [
    {
     "data": {
      "text/plain": [
       "{'Reservations': [{'ReservationId': 'r-00b0e6f74621b838c',\n",
       "   'OwnerId': '396913733336',\n",
       "   'Groups': [],\n",
       "   'Instances': [{'Architecture': 'x86_64',\n",
       "     'BlockDeviceMappings': [{'DeviceName': '/dev/sda1',\n",
       "       'Ebs': {'AttachTime': datetime.datetime(2024, 12, 29, 4, 37, 25, tzinfo=tzutc()),\n",
       "        'DeleteOnTermination': True,\n",
       "        'Status': 'attached',\n",
       "        'VolumeId': 'vol-00d122f1d40a13973'}},\n",
       "      {'DeviceName': '/dev/xvda',\n",
       "       'Ebs': {'AttachTime': datetime.datetime(2024, 12, 29, 4, 37, 25, tzinfo=tzutc()),\n",
       "        'DeleteOnTermination': True,\n",
       "        'Status': 'attached',\n",
       "        'VolumeId': 'vol-0df122640664576a0'}}],\n",
       "     'ClientToken': '11e3dcc9-6eab-490a-8f95-84992b6fe83a',\n",
       "     'EbsOptimized': False,\n",
       "     'EnaSupport': True,\n",
       "     'Hypervisor': 'xen',\n",
       "     'NetworkInterfaces': [{'Association': {'IpOwnerId': 'amazon',\n",
       "        'PublicDnsName': 'ec2-54-211-211-131.compute-1.amazonaws.com',\n",
       "        'PublicIp': '54.211.211.131'},\n",
       "       'Attachment': {'AttachTime': datetime.datetime(2024, 12, 29, 4, 37, 25, tzinfo=tzutc()),\n",
       "        'AttachmentId': 'eni-attach-0addf85b2a0b44105',\n",
       "        'DeleteOnTermination': True,\n",
       "        'DeviceIndex': 0,\n",
       "        'Status': 'attached',\n",
       "        'NetworkCardIndex': 0},\n",
       "       'Description': '',\n",
       "       'Groups': [{'GroupId': 'sg-070063af08eaeef2d', 'GroupName': 'default'}],\n",
       "       'Ipv6Addresses': [],\n",
       "       'MacAddress': '12:1d:e2:ef:25:73',\n",
       "       'NetworkInterfaceId': 'eni-03c0e771330689ff5',\n",
       "       'OwnerId': '396913733336',\n",
       "       'PrivateDnsName': 'ip-172-31-90-169.ec2.internal',\n",
       "       'PrivateIpAddress': '172.31.90.169',\n",
       "       'PrivateIpAddresses': [{'Association': {'IpOwnerId': 'amazon',\n",
       "          'PublicDnsName': 'ec2-54-211-211-131.compute-1.amazonaws.com',\n",
       "          'PublicIp': '54.211.211.131'},\n",
       "         'Primary': True,\n",
       "         'PrivateDnsName': 'ip-172-31-90-169.ec2.internal',\n",
       "         'PrivateIpAddress': '172.31.90.169'}],\n",
       "       'SourceDestCheck': True,\n",
       "       'Status': 'in-use',\n",
       "       'SubnetId': 'subnet-0c04a7cebe904f4ab',\n",
       "       'VpcId': 'vpc-01a66cd7033b26a22',\n",
       "       'InterfaceType': 'interface',\n",
       "       'Operator': {'Managed': False}}],\n",
       "     'RootDeviceName': '/dev/sda1',\n",
       "     'RootDeviceType': 'ebs',\n",
       "     'SecurityGroups': [{'GroupId': 'sg-070063af08eaeef2d',\n",
       "       'GroupName': 'default'}],\n",
       "     'SourceDestCheck': True,\n",
       "     'VirtualizationType': 'hvm',\n",
       "     'CpuOptions': {'CoreCount': 1, 'ThreadsPerCore': 2},\n",
       "     'CapacityReservationSpecification': {'CapacityReservationPreference': 'open'},\n",
       "     'HibernationOptions': {'Configured': False},\n",
       "     'MetadataOptions': {'State': 'applied',\n",
       "      'HttpTokens': 'required',\n",
       "      'HttpPutResponseHopLimit': 2,\n",
       "      'HttpEndpoint': 'enabled',\n",
       "      'HttpProtocolIpv6': 'disabled',\n",
       "      'InstanceMetadataTags': 'disabled'},\n",
       "     'EnclaveOptions': {'Enabled': False},\n",
       "     'BootMode': 'uefi-preferred',\n",
       "     'PlatformDetails': 'Linux/UNIX',\n",
       "     'UsageOperation': 'RunInstances',\n",
       "     'UsageOperationUpdateTime': datetime.datetime(2024, 12, 29, 4, 37, 25, tzinfo=tzutc()),\n",
       "     'PrivateDnsNameOptions': {'HostnameType': 'ip-name',\n",
       "      'EnableResourceNameDnsARecord': False,\n",
       "      'EnableResourceNameDnsAAAARecord': False},\n",
       "     'MaintenanceOptions': {'AutoRecovery': 'default'},\n",
       "     'CurrentInstanceBootMode': 'uefi',\n",
       "     'NetworkPerformanceOptions': {'BandwidthWeighting': 'default'},\n",
       "     'Operator': {'Managed': False},\n",
       "     'InstanceId': 'i-0374bd42224a2a679',\n",
       "     'ImageId': 'ami-0e2c8caa4b6378d8c',\n",
       "     'State': {'Code': 16, 'Name': 'running'},\n",
       "     'PrivateDnsName': 'ip-172-31-90-169.ec2.internal',\n",
       "     'PublicDnsName': 'ec2-54-211-211-131.compute-1.amazonaws.com',\n",
       "     'StateTransitionReason': '',\n",
       "     'KeyName': 'Prahalad_ReddyKEY',\n",
       "     'AmiLaunchIndex': 0,\n",
       "     'ProductCodes': [],\n",
       "     'InstanceType': 't3.micro',\n",
       "     'LaunchTime': datetime.datetime(2024, 12, 29, 4, 37, 25, tzinfo=tzutc()),\n",
       "     'Placement': {'GroupName': '',\n",
       "      'Tenancy': 'default',\n",
       "      'AvailabilityZone': 'us-east-1a'},\n",
       "     'Monitoring': {'State': 'disabled'},\n",
       "     'SubnetId': 'subnet-0c04a7cebe904f4ab',\n",
       "     'VpcId': 'vpc-01a66cd7033b26a22',\n",
       "     'PrivateIpAddress': '172.31.90.169',\n",
       "     'PublicIpAddress': '54.211.211.131'}]}],\n",
       " 'ResponseMetadata': {'RequestId': '5165f553-6fc3-4805-8b28-ae2fe425b2c5',\n",
       "  'HTTPStatusCode': 200,\n",
       "  'HTTPHeaders': {'x-amzn-requestid': '5165f553-6fc3-4805-8b28-ae2fe425b2c5',\n",
       "   'cache-control': 'no-cache, no-store',\n",
       "   'strict-transport-security': 'max-age=31536000; includeSubDomains',\n",
       "   'vary': 'accept-encoding',\n",
       "   'content-type': 'text/xml;charset=UTF-8',\n",
       "   'content-length': '4966',\n",
       "   'date': 'Sun, 29 Dec 2024 04:41:48 GMT',\n",
       "   'server': 'AmazonEC2'},\n",
       "  'RetryAttempts': 0}}"
      ]
     },
     "execution_count": 8,
     "metadata": {},
     "output_type": "execute_result"
    }
   ],
   "source": [
    "response"
   ]
  },
  {
   "cell_type": "code",
   "execution_count": 9,
   "metadata": {},
   "outputs": [],
   "source": [
    "Old_groupId=response['Reservations'][0]['Instances'][0]['SecurityGroups'][0]['GroupId']"
   ]
  },
  {
   "cell_type": "code",
   "execution_count": 10,
   "metadata": {},
   "outputs": [
    {
     "data": {
      "text/plain": [
       "'sg-070063af08eaeef2d'"
      ]
     },
     "execution_count": 10,
     "metadata": {},
     "output_type": "execute_result"
    }
   ],
   "source": [
    "Old_groupId"
   ]
  },
  {
   "cell_type": "code",
   "execution_count": null,
   "metadata": {},
   "outputs": [],
   "source": []
  },
  {
   "cell_type": "code",
   "execution_count": 11,
   "metadata": {},
   "outputs": [],
   "source": [
    "new_security_group=ec2.create_security_group(\n",
    "  GroupName='Prahalad_Learning',\n",
    "  Description='A sample'\n",
    ")"
   ]
  },
  {
   "cell_type": "code",
   "execution_count": 12,
   "metadata": {},
   "outputs": [
    {
     "data": {
      "text/plain": [
       "{'GroupId': 'sg-0557259cbe166bf3e',\n",
       " 'SecurityGroupArn': 'arn:aws:ec2:us-east-1:396913733336:security-group/sg-0557259cbe166bf3e',\n",
       " 'ResponseMetadata': {'RequestId': '6e23668c-109e-4352-86aa-43daf403de55',\n",
       "  'HTTPStatusCode': 200,\n",
       "  'HTTPHeaders': {'x-amzn-requestid': '6e23668c-109e-4352-86aa-43daf403de55',\n",
       "   'cache-control': 'no-cache, no-store',\n",
       "   'strict-transport-security': 'max-age=31536000; includeSubDomains',\n",
       "   'content-type': 'text/xml;charset=UTF-8',\n",
       "   'content-length': '373',\n",
       "   'date': 'Sun, 29 Dec 2024 04:44:16 GMT',\n",
       "   'server': 'AmazonEC2'},\n",
       "  'RetryAttempts': 0}}"
      ]
     },
     "execution_count": 12,
     "metadata": {},
     "output_type": "execute_result"
    }
   ],
   "source": [
    "new_security_group"
   ]
  },
  {
   "cell_type": "code",
   "execution_count": 13,
   "metadata": {},
   "outputs": [],
   "source": [
    "new_security_group_id=new_security_group['GroupId']"
   ]
  },
  {
   "cell_type": "code",
   "execution_count": 14,
   "metadata": {},
   "outputs": [
    {
     "data": {
      "text/plain": [
       "'sg-0557259cbe166bf3e'"
      ]
     },
     "execution_count": 14,
     "metadata": {},
     "output_type": "execute_result"
    }
   ],
   "source": [
    "new_security_group_id"
   ]
  },
  {
   "cell_type": "code",
   "execution_count": 15,
   "metadata": {},
   "outputs": [],
   "source": [
    "new_group=ec2.authorize_security_group_ingress(\n",
    "  GroupId=new_security_group_id,\n",
    "  IpPermissions=[\n",
    "    {\n",
    "      'IpProtocol':'tcp',\n",
    "      'FromPort':22,\n",
    "      'ToPort':22,\n",
    "      'IpRanges':[{'CidrIp':'0.0.0.0/0'}]\n",
    "    }\n",
    "  ]\n",
    ")"
   ]
  },
  {
   "cell_type": "code",
   "execution_count": 16,
   "metadata": {},
   "outputs": [],
   "source": [
    "response=ec2.describe_instances()\n",
    "\n",
    "instance_id=response['Reservations'][0]['Instances'][0]['InstanceId']"
   ]
  },
  {
   "cell_type": "code",
   "execution_count": 17,
   "metadata": {},
   "outputs": [
    {
     "data": {
      "text/plain": [
       "{'ResponseMetadata': {'RequestId': '6fe6c93f-a81a-49c9-831b-25fcb858180b',\n",
       "  'HTTPStatusCode': 200,\n",
       "  'HTTPHeaders': {'x-amzn-requestid': '6fe6c93f-a81a-49c9-831b-25fcb858180b',\n",
       "   'cache-control': 'no-cache, no-store',\n",
       "   'strict-transport-security': 'max-age=31536000; includeSubDomains',\n",
       "   'content-type': 'text/xml;charset=UTF-8',\n",
       "   'content-length': '235',\n",
       "   'date': 'Sun, 29 Dec 2024 04:48:29 GMT',\n",
       "   'server': 'AmazonEC2'},\n",
       "  'RetryAttempts': 0}}"
      ]
     },
     "execution_count": 17,
     "metadata": {},
     "output_type": "execute_result"
    }
   ],
   "source": [
    "ec2.modify_instance_attribute(InstanceId=instance_id,Groups=[Old_groupId,new_security_group_id])"
   ]
  },
  {
   "cell_type": "code",
   "execution_count": 18,
   "metadata": {},
   "outputs": [],
   "source": [
    "import time"
   ]
  },
  {
   "cell_type": "code",
   "execution_count": 19,
   "metadata": {},
   "outputs": [],
   "source": [
    "def wait_for_status(instance_id,ori_status):\n",
    "  while True:\n",
    "        response = ec2.describe_instances(InstanceIds=[instance_id])\n",
    "        status = response['Reservations'][0]['Instances'][0]['State']['Name'] \n",
    "        if status==ori_status:\n",
    "            break\n",
    "        \n",
    "        time.sleep(10)\n"
   ]
  },
  {
   "cell_type": "code",
   "execution_count": 20,
   "metadata": {},
   "outputs": [],
   "source": [
    "def start_instance(instance_id):\n",
    "    if isinstance(instance_id, list):\n",
    "        instance_id = instance_id[0]\n",
    "    print('Instance start')\n",
    "    ec2.start_instances(InstanceIds=[instance_id])\n",
    "    wait_for_status(instance_id, 'running')\n",
    "    print('The instance is running')\n",
    "    "
   ]
  },
  {
   "cell_type": "code",
   "execution_count": 21,
   "metadata": {},
   "outputs": [
    {
     "name": "stdout",
     "output_type": "stream",
     "text": [
      "Instance start\n",
      "The instance is running\n"
     ]
    }
   ],
   "source": [
    "start_instance(instance_id)"
   ]
  },
  {
   "cell_type": "code",
   "execution_count": 22,
   "metadata": {},
   "outputs": [],
   "source": [
    "def stop_instance(instance_id):\n",
    "    if isinstance(instance_id, list):\n",
    "        instance_id = instance_id[0]\n",
    "    print('Instance stopping')\n",
    "    ec2.stop_instances(InstanceIds=[instance_id])\n",
    "    wait_for_status(instance_id, 'stopped')\n",
    "    print('Instance is stopped')\n"
   ]
  },
  {
   "cell_type": "code",
   "execution_count": 23,
   "metadata": {},
   "outputs": [
    {
     "name": "stdout",
     "output_type": "stream",
     "text": [
      "Instance stopping\n",
      "Instance is stopped\n"
     ]
    }
   ],
   "source": [
    "stop_instance(instance_id)"
   ]
  },
  {
   "cell_type": "code",
   "execution_count": 30,
   "metadata": {},
   "outputs": [],
   "source": [
    "def terminate_instance(instance_id):\n",
    "    if isinstance(instance_id, list):\n",
    "        instance_id = instance_id[0]\n",
    "    print('Instance terminating')\n",
    "    ec2.terminate_instances(InstanceIds=[instance_id])\n",
    "    wait_for_status(instance_id, 'terminated')\n",
    "    print('Instance is terminated')"
   ]
  },
  {
   "cell_type": "code",
   "execution_count": 25,
   "metadata": {},
   "outputs": [],
   "source": [
    "def delete_instance(instance_id):\n",
    "    if isinstance(instance_id, list):\n",
    "        instance_id = instance_id[0]\n",
    "    print('Instance deleting')\n",
    "    ec2.delete_instances(InstanceIds=[instance_id])\n",
    "    wait_for_status(instance_id, 'deleted')\n",
    "    print('Instance is terminated')"
   ]
  },
  {
   "cell_type": "code",
   "execution_count": 26,
   "metadata": {},
   "outputs": [
    {
     "name": "stdout",
     "output_type": "stream",
     "text": [
      "Instance start\n",
      "The instance is running\n"
     ]
    }
   ],
   "source": [
    "start_instance(instance_id)"
   ]
  },
  {
   "cell_type": "code",
   "execution_count": 27,
   "metadata": {},
   "outputs": [
    {
     "name": "stdout",
     "output_type": "stream",
     "text": [
      "Instance stopping\n",
      "Instance is stopped\n"
     ]
    }
   ],
   "source": [
    "stop_instance(instance_id)"
   ]
  },
  {
   "cell_type": "code",
   "execution_count": 31,
   "metadata": {},
   "outputs": [
    {
     "name": "stdout",
     "output_type": "stream",
     "text": [
      "Instance terminating\n",
      "Instance is terminated\n"
     ]
    }
   ],
   "source": [
    "terminate_instance(instance_id)"
   ]
  },
  {
   "cell_type": "code",
   "execution_count": 32,
   "metadata": {},
   "outputs": [
    {
     "name": "stdout",
     "output_type": "stream",
     "text": [
      "Instance deleting\n"
     ]
    },
    {
     "ename": "ClientError",
     "evalue": "An error occurred (IncorrectInstanceState) when calling the StopInstances operation: This instance 'i-0374bd42224a2a679' is not in a state from which it can be stopped.",
     "output_type": "error",
     "traceback": [
      "\u001b[1;31m---------------------------------------------------------------------------\u001b[0m",
      "\u001b[1;31mClientError\u001b[0m                               Traceback (most recent call last)",
      "Cell \u001b[1;32mIn[32], line 1\u001b[0m\n\u001b[1;32m----> 1\u001b[0m \u001b[43mdelete_instance\u001b[49m\u001b[43m(\u001b[49m\u001b[43minstance_id\u001b[49m\u001b[43m)\u001b[49m\n",
      "Cell \u001b[1;32mIn[25], line 5\u001b[0m, in \u001b[0;36mdelete_instance\u001b[1;34m(instance_id)\u001b[0m\n\u001b[0;32m      3\u001b[0m     instance_id \u001b[38;5;241m=\u001b[39m instance_id[\u001b[38;5;241m0\u001b[39m]\n\u001b[0;32m      4\u001b[0m \u001b[38;5;28mprint\u001b[39m(\u001b[38;5;124m'\u001b[39m\u001b[38;5;124mInstance deleting\u001b[39m\u001b[38;5;124m'\u001b[39m)\n\u001b[1;32m----> 5\u001b[0m \u001b[43mec2\u001b[49m\u001b[38;5;241;43m.\u001b[39;49m\u001b[43mstop_instances\u001b[49m\u001b[43m(\u001b[49m\u001b[43mInstanceIds\u001b[49m\u001b[38;5;241;43m=\u001b[39;49m\u001b[43m[\u001b[49m\u001b[43minstance_id\u001b[49m\u001b[43m]\u001b[49m\u001b[43m)\u001b[49m\n\u001b[0;32m      6\u001b[0m wait_for_status(instance_id, \u001b[38;5;124m'\u001b[39m\u001b[38;5;124mdeleted\u001b[39m\u001b[38;5;124m'\u001b[39m)\n\u001b[0;32m      7\u001b[0m \u001b[38;5;28mprint\u001b[39m(\u001b[38;5;124m'\u001b[39m\u001b[38;5;124mInstance is terminated\u001b[39m\u001b[38;5;124m'\u001b[39m)\n",
      "File \u001b[1;32mc:\\Users\\bored\\Music\\Model_Deployment\\awsvenv\\Lib\\site-packages\\botocore\\client.py:569\u001b[0m, in \u001b[0;36mClientCreator._create_api_method.<locals>._api_call\u001b[1;34m(self, *args, **kwargs)\u001b[0m\n\u001b[0;32m    565\u001b[0m     \u001b[38;5;28;01mraise\u001b[39;00m \u001b[38;5;167;01mTypeError\u001b[39;00m(\n\u001b[0;32m    566\u001b[0m         \u001b[38;5;124mf\u001b[39m\u001b[38;5;124m\"\u001b[39m\u001b[38;5;132;01m{\u001b[39;00mpy_operation_name\u001b[38;5;132;01m}\u001b[39;00m\u001b[38;5;124m() only accepts keyword arguments.\u001b[39m\u001b[38;5;124m\"\u001b[39m\n\u001b[0;32m    567\u001b[0m     )\n\u001b[0;32m    568\u001b[0m \u001b[38;5;66;03m# The \"self\" in this scope is referring to the BaseClient.\u001b[39;00m\n\u001b[1;32m--> 569\u001b[0m \u001b[38;5;28;01mreturn\u001b[39;00m \u001b[38;5;28;43mself\u001b[39;49m\u001b[38;5;241;43m.\u001b[39;49m\u001b[43m_make_api_call\u001b[49m\u001b[43m(\u001b[49m\u001b[43moperation_name\u001b[49m\u001b[43m,\u001b[49m\u001b[43m \u001b[49m\u001b[43mkwargs\u001b[49m\u001b[43m)\u001b[49m\n",
      "File \u001b[1;32mc:\\Users\\bored\\Music\\Model_Deployment\\awsvenv\\Lib\\site-packages\\botocore\\client.py:1023\u001b[0m, in \u001b[0;36mBaseClient._make_api_call\u001b[1;34m(self, operation_name, api_params)\u001b[0m\n\u001b[0;32m   1019\u001b[0m     error_code \u001b[38;5;241m=\u001b[39m error_info\u001b[38;5;241m.\u001b[39mget(\u001b[38;5;124m\"\u001b[39m\u001b[38;5;124mQueryErrorCode\u001b[39m\u001b[38;5;124m\"\u001b[39m) \u001b[38;5;129;01mor\u001b[39;00m error_info\u001b[38;5;241m.\u001b[39mget(\n\u001b[0;32m   1020\u001b[0m         \u001b[38;5;124m\"\u001b[39m\u001b[38;5;124mCode\u001b[39m\u001b[38;5;124m\"\u001b[39m\n\u001b[0;32m   1021\u001b[0m     )\n\u001b[0;32m   1022\u001b[0m     error_class \u001b[38;5;241m=\u001b[39m \u001b[38;5;28mself\u001b[39m\u001b[38;5;241m.\u001b[39mexceptions\u001b[38;5;241m.\u001b[39mfrom_code(error_code)\n\u001b[1;32m-> 1023\u001b[0m     \u001b[38;5;28;01mraise\u001b[39;00m error_class(parsed_response, operation_name)\n\u001b[0;32m   1024\u001b[0m \u001b[38;5;28;01melse\u001b[39;00m:\n\u001b[0;32m   1025\u001b[0m     \u001b[38;5;28;01mreturn\u001b[39;00m parsed_response\n",
      "\u001b[1;31mClientError\u001b[0m: An error occurred (IncorrectInstanceState) when calling the StopInstances operation: This instance 'i-0374bd42224a2a679' is not in a state from which it can be stopped."
     ]
    }
   ],
   "source": [
    "delete_instance(instance_id)"
   ]
  },
  {
   "cell_type": "code",
   "execution_count": 33,
   "metadata": {},
   "outputs": [],
   "source": [
    "import boto3"
   ]
  },
  {
   "cell_type": "code",
   "execution_count": 34,
   "metadata": {},
   "outputs": [],
   "source": [
    "s3=boto3.client('s3')"
   ]
  },
  {
   "cell_type": "code",
   "execution_count": 35,
   "metadata": {},
   "outputs": [
    {
     "data": {
      "text/plain": [
       "{'ResponseMetadata': {'RequestId': '38S77PVD8H6PM68Z',\n",
       "  'HostId': 'vl3aocQTzjYOb875pof/qugYCOzSSTLJRrKok7QCqlZRYK6iMihvDRaPhuxNuqmZ12xAmuQSUiw=',\n",
       "  'HTTPStatusCode': 200,\n",
       "  'HTTPHeaders': {'x-amz-id-2': 'vl3aocQTzjYOb875pof/qugYCOzSSTLJRrKok7QCqlZRYK6iMihvDRaPhuxNuqmZ12xAmuQSUiw=',\n",
       "   'x-amz-request-id': '38S77PVD8H6PM68Z',\n",
       "   'date': 'Sun, 29 Dec 2024 05:07:08 GMT',\n",
       "   'content-type': 'application/xml',\n",
       "   'transfer-encoding': 'chunked',\n",
       "   'server': 'AmazonS3'},\n",
       "  'RetryAttempts': 0},\n",
       " 'Buckets': [],\n",
       " 'Owner': {'DisplayName': 'boreddyprahaladhareddy',\n",
       "  'ID': 'ab93d5351552cae394fbb87b443f96c87747da8fe4bd5dea236ea465aecaf001'}}"
      ]
     },
     "execution_count": 35,
     "metadata": {},
     "output_type": "execute_result"
    }
   ],
   "source": [
    "s3.list_buckets()"
   ]
  },
  {
   "cell_type": "code",
   "execution_count": 36,
   "metadata": {},
   "outputs": [],
   "source": [
    "bucket_name='test890'"
   ]
  },
  {
   "cell_type": "code",
   "execution_count": 38,
   "metadata": {},
   "outputs": [
    {
     "data": {
      "text/plain": [
       "{'ResponseMetadata': {'RequestId': 'H73SHW34EHE08FBT',\n",
       "  'HostId': '2X0hZaWxWaleR/A9NRTaaGwnM+nTxraztRuc5GW1rw/X2jLF+B5ukFQWeYlR/PnFpf0+YJ/dD6zQ7cjj+tZzIK7gR8gRXG16',\n",
       "  'HTTPStatusCode': 200,\n",
       "  'HTTPHeaders': {'x-amz-id-2': '2X0hZaWxWaleR/A9NRTaaGwnM+nTxraztRuc5GW1rw/X2jLF+B5ukFQWeYlR/PnFpf0+YJ/dD6zQ7cjj+tZzIK7gR8gRXG16',\n",
       "   'x-amz-request-id': 'H73SHW34EHE08FBT',\n",
       "   'date': 'Sun, 29 Dec 2024 05:08:13 GMT',\n",
       "   'location': '/test890',\n",
       "   'content-length': '0',\n",
       "   'server': 'AmazonS3'},\n",
       "  'RetryAttempts': 0},\n",
       " 'Location': '/test890'}"
      ]
     },
     "execution_count": 38,
     "metadata": {},
     "output_type": "execute_result"
    }
   ],
   "source": [
    "s3.create_bucket(Bucket=bucket_name)"
   ]
  },
  {
   "cell_type": "code",
   "execution_count": 39,
   "metadata": {},
   "outputs": [
    {
     "data": {
      "text/plain": [
       "{'ResponseMetadata': {'RequestId': '6ZMM5BESKZ89MWZ5',\n",
       "  'HostId': 'tz1RPyVfxbXv1GS6a+et45HTKk3ClILdQ7A/BH6Ybebw2eeBxWsZdDmMY5g5rjslkbS8PCz3GD0=',\n",
       "  'HTTPStatusCode': 200,\n",
       "  'HTTPHeaders': {'x-amz-id-2': 'tz1RPyVfxbXv1GS6a+et45HTKk3ClILdQ7A/BH6Ybebw2eeBxWsZdDmMY5g5rjslkbS8PCz3GD0=',\n",
       "   'x-amz-request-id': '6ZMM5BESKZ89MWZ5',\n",
       "   'date': 'Sun, 29 Dec 2024 05:08:38 GMT',\n",
       "   'content-type': 'application/xml',\n",
       "   'transfer-encoding': 'chunked',\n",
       "   'server': 'AmazonS3'},\n",
       "  'RetryAttempts': 0},\n",
       " 'Buckets': [{'Name': 'test890',\n",
       "   'CreationDate': datetime.datetime(2024, 12, 29, 5, 8, 13, tzinfo=tzutc())}],\n",
       " 'Owner': {'DisplayName': 'boreddyprahaladhareddy',\n",
       "  'ID': 'ab93d5351552cae394fbb87b443f96c87747da8fe4bd5dea236ea465aecaf001'}}"
      ]
     },
     "execution_count": 39,
     "metadata": {},
     "output_type": "execute_result"
    }
   ],
   "source": [
    "s3.list_buckets()"
   ]
  },
  {
   "cell_type": "code",
   "execution_count": 50,
   "metadata": {},
   "outputs": [],
   "source": [
    "file_path='creds/Prahalad_ReddyKEY.pem'\n",
    "object_name='s3_obj'"
   ]
  },
  {
   "cell_type": "code",
   "execution_count": 42,
   "metadata": {},
   "outputs": [],
   "source": [
    "s3.upload_file(file_path,bucket_name,object_name)"
   ]
  },
  {
   "cell_type": "code",
   "execution_count": 54,
   "metadata": {},
   "outputs": [],
   "source": [
    "new_file_path='creds/Prahalad_ReddyKEYDownloaded.pem'"
   ]
  },
  {
   "cell_type": "code",
   "execution_count": 52,
   "metadata": {},
   "outputs": [],
   "source": [
    "def list_objects(bucket_name):\n",
    "  response=s3.list_objects_v2(Bucket=bucket_name)\n",
    "  for obj in response['Contents']:\n",
    "    print(obj)\n"
   ]
  },
  {
   "cell_type": "code",
   "execution_count": 53,
   "metadata": {},
   "outputs": [
    {
     "name": "stdout",
     "output_type": "stream",
     "text": [
      "{'Key': 's3_obj', 'LastModified': datetime.datetime(2024, 12, 29, 5, 12, 45, tzinfo=tzutc()), 'ETag': '\"cddc810234be2f62b46a2f6ec7cc4c20\"', 'Size': 1700, 'StorageClass': 'STANDARD'}\n"
     ]
    }
   ],
   "source": [
    "list_objects(bucket_name)"
   ]
  },
  {
   "cell_type": "code",
   "execution_count": 55,
   "metadata": {},
   "outputs": [],
   "source": [
    "s3.download_file(bucket_name,object_name,new_file_path)"
   ]
  },
  {
   "cell_type": "code",
   "execution_count": 1,
   "metadata": {},
   "outputs": [
    {
     "name": "stderr",
     "output_type": "stream",
     "text": [
      "c:\\Users\\bored\\Music\\Model_Deployment\\awsvenv\\Lib\\site-packages\\huggingface_hub\\file_download.py:140: UserWarning: `huggingface_hub` cache-system uses symlinks by default to efficiently store duplicated files but your machine does not support them in C:\\Users\\bored\\.cache\\huggingface\\hub\\models--Prahaladha--pose_classification. Caching files will still work but in a degraded version that might require more space on your disk. This warning can be disabled by setting the `HF_HUB_DISABLE_SYMLINKS_WARNING` environment variable. For more details, see https://huggingface.co/docs/huggingface_hub/how-to-cache#limitations.\n",
      "To support symlinks on Windows, you either need to activate Developer Mode or to run Python as an administrator. In order to activate developer mode, see this article: https://docs.microsoft.com/en-us/windows/apps/get-started/enable-your-device-for-development\n",
      "  warnings.warn(message)\n"
     ]
    }
   ],
   "source": [
    "from transformers import AutoModelForImageClassification\n",
    "model_cpt='Prahaladha/pose_classification'\n",
    "model=AutoModelForImageClassification.from_pretrained(model_cpt)"
   ]
  },
  {
   "cell_type": "code",
   "execution_count": 6,
   "metadata": {},
   "outputs": [],
   "source": [
    "model.save_pretrained(\"./disaster_management_classification\")\n"
   ]
  },
  {
   "cell_type": "code",
   "execution_count": 8,
   "metadata": {},
   "outputs": [],
   "source": [
    "import torchvision\n",
    "import torch"
   ]
  },
  {
   "cell_type": "code",
   "execution_count": 9,
   "metadata": {},
   "outputs": [
    {
     "name": "stdout",
     "output_type": "stream",
     "text": [
      "2.5.1+cpu\n",
      "0.20.1+cpu\n"
     ]
    }
   ],
   "source": [
    "print(torch.__version__)\n",
    "print(torchvision.__version__)"
   ]
  },
  {
   "cell_type": "code",
   "execution_count": 12,
   "metadata": {},
   "outputs": [
    {
     "name": "stdout",
     "output_type": "stream",
     "text": [
      "Requirement already satisfied: torchvision in c:\\users\\bored\\music\\model_deployment\\awsvenv\\lib\\site-packages (0.20.1)\n",
      "Requirement already satisfied: numpy in c:\\users\\bored\\music\\model_deployment\\awsvenv\\lib\\site-packages (from torchvision) (2.2.1)\n",
      "Requirement already satisfied: torch==2.5.1 in c:\\users\\bored\\music\\model_deployment\\awsvenv\\lib\\site-packages (from torchvision) (2.5.1)\n",
      "Requirement already satisfied: pillow!=8.3.*,>=5.3.0 in c:\\users\\bored\\music\\model_deployment\\awsvenv\\lib\\site-packages (from torchvision) (11.0.0)\n",
      "Requirement already satisfied: filelock in c:\\users\\bored\\music\\model_deployment\\awsvenv\\lib\\site-packages (from torch==2.5.1->torchvision) (3.16.1)\n",
      "Requirement already satisfied: typing-extensions>=4.8.0 in c:\\users\\bored\\music\\model_deployment\\awsvenv\\lib\\site-packages (from torch==2.5.1->torchvision) (4.12.2)\n",
      "Requirement already satisfied: networkx in c:\\users\\bored\\music\\model_deployment\\awsvenv\\lib\\site-packages (from torch==2.5.1->torchvision) (3.4.2)\n",
      "Requirement already satisfied: jinja2 in c:\\users\\bored\\music\\model_deployment\\awsvenv\\lib\\site-packages (from torch==2.5.1->torchvision) (3.1.5)\n",
      "Requirement already satisfied: fsspec in c:\\users\\bored\\music\\model_deployment\\awsvenv\\lib\\site-packages (from torch==2.5.1->torchvision) (2024.9.0)\n",
      "Requirement already satisfied: setuptools in c:\\users\\bored\\music\\model_deployment\\awsvenv\\lib\\site-packages (from torch==2.5.1->torchvision) (75.6.0)\n",
      "Requirement already satisfied: sympy==1.13.1 in c:\\users\\bored\\music\\model_deployment\\awsvenv\\lib\\site-packages (from torch==2.5.1->torchvision) (1.13.1)\n",
      "Requirement already satisfied: mpmath<1.4,>=1.1.0 in c:\\users\\bored\\music\\model_deployment\\awsvenv\\lib\\site-packages (from sympy==1.13.1->torch==2.5.1->torchvision) (1.3.0)\n",
      "Requirement already satisfied: MarkupSafe>=2.0 in c:\\users\\bored\\music\\model_deployment\\awsvenv\\lib\\site-packages (from jinja2->torch==2.5.1->torchvision) (3.0.2)\n",
      "Note: you may need to restart the kernel to use updated packages.\n"
     ]
    },
    {
     "name": "stderr",
     "output_type": "stream",
     "text": [
      "\n",
      "[notice] A new release of pip is available: 24.0 -> 24.3.1\n",
      "[notice] To update, run: python.exe -m pip install --upgrade pip\n"
     ]
    }
   ],
   "source": [
    "%pip install torchvision"
   ]
  },
  {
   "cell_type": "code",
   "execution_count": 17,
   "metadata": {},
   "outputs": [],
   "source": [
    "from transformers import AutoModelForImageClassification, AutoImageProcessor"
   ]
  },
  {
   "cell_type": "code",
   "execution_count": 18,
   "metadata": {},
   "outputs": [],
   "source": [
    "model_name = \"Prahaladha/pose_classification\"\n",
    "model = AutoModelForImageClassification.from_pretrained(model_name)"
   ]
  },
  {
   "cell_type": "code",
   "execution_count": 20,
   "metadata": {},
   "outputs": [
    {
     "ename": "ImportError",
     "evalue": "\nViTImageProcessorFast requires the Torchvision library but it was not found in your environment. Checkout the instructions on the\ninstallation page: https://pytorch.org/get-started/locally/ and follow the ones that match your environment.\nPlease note that you may need to restart your runtime after installation.\n",
     "output_type": "error",
     "traceback": [
      "\u001b[1;31m---------------------------------------------------------------------------\u001b[0m",
      "\u001b[1;31mImportError\u001b[0m                               Traceback (most recent call last)",
      "Cell \u001b[1;32mIn[20], line 10\u001b[0m\n\u001b[0;32m      8\u001b[0m \u001b[38;5;66;03m# Load the model and image processor\u001b[39;00m\n\u001b[0;32m      9\u001b[0m model \u001b[38;5;241m=\u001b[39m AutoModelForImageClassification\u001b[38;5;241m.\u001b[39mfrom_pretrained(model_name)\n\u001b[1;32m---> 10\u001b[0m image_processor \u001b[38;5;241m=\u001b[39m \u001b[43mAutoImageProcessor\u001b[49m\u001b[38;5;241;43m.\u001b[39;49m\u001b[43mfrom_pretrained\u001b[49m\u001b[43m(\u001b[49m\u001b[43mmodel_name\u001b[49m\u001b[43m)\u001b[49m\n\u001b[0;32m     11\u001b[0m on\n\u001b[0;32m     12\u001b[0m \u001b[38;5;28;01mfrom\u001b[39;00m \u001b[38;5;21;01mtransformers\u001b[39;00m \u001b[38;5;28;01mimport\u001b[39;00m pipeline\n",
      "File \u001b[1;32mc:\\Users\\bored\\Music\\Model_Deployment\\awsvenv\\Lib\\site-packages\\transformers\\models\\auto\\image_processing_auto.py:479\u001b[0m, in \u001b[0;36mAutoImageProcessor.from_pretrained\u001b[1;34m(cls, pretrained_model_name_or_path, *inputs, **kwargs)\u001b[0m\n\u001b[0;32m    477\u001b[0m     \u001b[38;5;28;01mreturn\u001b[39;00m image_processor_class\u001b[38;5;241m.\u001b[39mfrom_dict(config_dict, \u001b[38;5;241m*\u001b[39m\u001b[38;5;241m*\u001b[39mkwargs)\n\u001b[0;32m    478\u001b[0m \u001b[38;5;28;01melif\u001b[39;00m image_processor_class \u001b[38;5;129;01mis\u001b[39;00m \u001b[38;5;129;01mnot\u001b[39;00m \u001b[38;5;28;01mNone\u001b[39;00m:\n\u001b[1;32m--> 479\u001b[0m     \u001b[38;5;28;01mreturn\u001b[39;00m \u001b[43mimage_processor_class\u001b[49m\u001b[38;5;241;43m.\u001b[39;49m\u001b[43mfrom_dict\u001b[49m(config_dict, \u001b[38;5;241m*\u001b[39m\u001b[38;5;241m*\u001b[39mkwargs)\n\u001b[0;32m    480\u001b[0m \u001b[38;5;66;03m# Last try: we use the IMAGE_PROCESSOR_MAPPING.\u001b[39;00m\n\u001b[0;32m    481\u001b[0m \u001b[38;5;28;01melif\u001b[39;00m \u001b[38;5;28mtype\u001b[39m(config) \u001b[38;5;129;01min\u001b[39;00m IMAGE_PROCESSOR_MAPPING:\n",
      "File \u001b[1;32mc:\\Users\\bored\\Music\\Model_Deployment\\awsvenv\\Lib\\site-packages\\transformers\\utils\\import_utils.py:1666\u001b[0m, in \u001b[0;36mDummyObject.__getattribute__\u001b[1;34m(cls, key)\u001b[0m\n\u001b[0;32m   1664\u001b[0m \u001b[38;5;28;01mif\u001b[39;00m key\u001b[38;5;241m.\u001b[39mstartswith(\u001b[38;5;124m\"\u001b[39m\u001b[38;5;124m_\u001b[39m\u001b[38;5;124m\"\u001b[39m) \u001b[38;5;129;01mand\u001b[39;00m key \u001b[38;5;241m!=\u001b[39m \u001b[38;5;124m\"\u001b[39m\u001b[38;5;124m_from_config\u001b[39m\u001b[38;5;124m\"\u001b[39m:\n\u001b[0;32m   1665\u001b[0m     \u001b[38;5;28;01mreturn\u001b[39;00m \u001b[38;5;28msuper\u001b[39m()\u001b[38;5;241m.\u001b[39m\u001b[38;5;21m__getattribute__\u001b[39m(key)\n\u001b[1;32m-> 1666\u001b[0m \u001b[43mrequires_backends\u001b[49m\u001b[43m(\u001b[49m\u001b[38;5;28;43mcls\u001b[39;49m\u001b[43m,\u001b[49m\u001b[43m \u001b[49m\u001b[38;5;28;43mcls\u001b[39;49m\u001b[38;5;241;43m.\u001b[39;49m\u001b[43m_backends\u001b[49m\u001b[43m)\u001b[49m\n",
      "File \u001b[1;32mc:\\Users\\bored\\Music\\Model_Deployment\\awsvenv\\Lib\\site-packages\\transformers\\utils\\import_utils.py:1654\u001b[0m, in \u001b[0;36mrequires_backends\u001b[1;34m(obj, backends)\u001b[0m\n\u001b[0;32m   1652\u001b[0m failed \u001b[38;5;241m=\u001b[39m [msg\u001b[38;5;241m.\u001b[39mformat(name) \u001b[38;5;28;01mfor\u001b[39;00m available, msg \u001b[38;5;129;01min\u001b[39;00m checks \u001b[38;5;28;01mif\u001b[39;00m \u001b[38;5;129;01mnot\u001b[39;00m available()]\n\u001b[0;32m   1653\u001b[0m \u001b[38;5;28;01mif\u001b[39;00m failed:\n\u001b[1;32m-> 1654\u001b[0m     \u001b[38;5;28;01mraise\u001b[39;00m \u001b[38;5;167;01mImportError\u001b[39;00m(\u001b[38;5;124m\"\u001b[39m\u001b[38;5;124m\"\u001b[39m\u001b[38;5;241m.\u001b[39mjoin(failed))\n",
      "\u001b[1;31mImportError\u001b[0m: \nViTImageProcessorFast requires the Torchvision library but it was not found in your environment. Checkout the instructions on the\ninstallation page: https://pytorch.org/get-started/locally/ and follow the ones that match your environment.\nPlease note that you may need to restart your runtime after installation.\n"
     ]
    }
   ],
   "source": [
    "from transformers import AutoModelForImageClassification, AutoImageProcessor\n",
    "\n",
    "import os\n",
    "os.environ['HUGGINGFACE_HUB_TOKEN'] = 'your_token_here'  # Replace with your actual token\n",
    "\n",
    "model_name = \"Prahaladha/pose_classification\"  # Ensure this is the correct model name\n",
    "\n",
    "# Load the model and image processor\n",
    "model = AutoModelForImageClassification.from_pretrained(model_name)\n",
    "image_processor = AutoImageProcessor.from_pretrained(model_name)\n",
    "on\n",
    "from transformers import pipeline\n",
    "\n",
    "classifier = pipeline('image-classification', model=model, feature_extractor=image_processor)\n",
    "\n",
    "# Classify the image\n",
    "result = classifier(image)\n",
    "print(result)"
   ]
  },
  {
   "cell_type": "code",
   "execution_count": 19,
   "metadata": {},
   "outputs": [
    {
     "ename": "ImportError",
     "evalue": "\nViTImageProcessorFast requires the Torchvision library but it was not found in your environment. Checkout the instructions on the\ninstallation page: https://pytorch.org/get-started/locally/ and follow the ones that match your environment.\nPlease note that you may need to restart your runtime after installation.\n",
     "output_type": "error",
     "traceback": [
      "\u001b[1;31m---------------------------------------------------------------------------\u001b[0m",
      "\u001b[1;31mImportError\u001b[0m                               Traceback (most recent call last)",
      "Cell \u001b[1;32mIn[19], line 1\u001b[0m\n\u001b[1;32m----> 1\u001b[0m image_processor \u001b[38;5;241m=\u001b[39m \u001b[43mAutoImageProcessor\u001b[49m\u001b[38;5;241;43m.\u001b[39;49m\u001b[43mfrom_pretrained\u001b[49m\u001b[43m(\u001b[49m\u001b[43mmodel_name\u001b[49m\u001b[43m)\u001b[49m\n",
      "File \u001b[1;32mc:\\Users\\bored\\Music\\Model_Deployment\\awsvenv\\Lib\\site-packages\\transformers\\models\\auto\\image_processing_auto.py:479\u001b[0m, in \u001b[0;36mAutoImageProcessor.from_pretrained\u001b[1;34m(cls, pretrained_model_name_or_path, *inputs, **kwargs)\u001b[0m\n\u001b[0;32m    477\u001b[0m     \u001b[38;5;28;01mreturn\u001b[39;00m image_processor_class\u001b[38;5;241m.\u001b[39mfrom_dict(config_dict, \u001b[38;5;241m*\u001b[39m\u001b[38;5;241m*\u001b[39mkwargs)\n\u001b[0;32m    478\u001b[0m \u001b[38;5;28;01melif\u001b[39;00m image_processor_class \u001b[38;5;129;01mis\u001b[39;00m \u001b[38;5;129;01mnot\u001b[39;00m \u001b[38;5;28;01mNone\u001b[39;00m:\n\u001b[1;32m--> 479\u001b[0m     \u001b[38;5;28;01mreturn\u001b[39;00m \u001b[43mimage_processor_class\u001b[49m\u001b[38;5;241;43m.\u001b[39;49m\u001b[43mfrom_dict\u001b[49m(config_dict, \u001b[38;5;241m*\u001b[39m\u001b[38;5;241m*\u001b[39mkwargs)\n\u001b[0;32m    480\u001b[0m \u001b[38;5;66;03m# Last try: we use the IMAGE_PROCESSOR_MAPPING.\u001b[39;00m\n\u001b[0;32m    481\u001b[0m \u001b[38;5;28;01melif\u001b[39;00m \u001b[38;5;28mtype\u001b[39m(config) \u001b[38;5;129;01min\u001b[39;00m IMAGE_PROCESSOR_MAPPING:\n",
      "File \u001b[1;32mc:\\Users\\bored\\Music\\Model_Deployment\\awsvenv\\Lib\\site-packages\\transformers\\utils\\import_utils.py:1666\u001b[0m, in \u001b[0;36mDummyObject.__getattribute__\u001b[1;34m(cls, key)\u001b[0m\n\u001b[0;32m   1664\u001b[0m \u001b[38;5;28;01mif\u001b[39;00m key\u001b[38;5;241m.\u001b[39mstartswith(\u001b[38;5;124m\"\u001b[39m\u001b[38;5;124m_\u001b[39m\u001b[38;5;124m\"\u001b[39m) \u001b[38;5;129;01mand\u001b[39;00m key \u001b[38;5;241m!=\u001b[39m \u001b[38;5;124m\"\u001b[39m\u001b[38;5;124m_from_config\u001b[39m\u001b[38;5;124m\"\u001b[39m:\n\u001b[0;32m   1665\u001b[0m     \u001b[38;5;28;01mreturn\u001b[39;00m \u001b[38;5;28msuper\u001b[39m()\u001b[38;5;241m.\u001b[39m\u001b[38;5;21m__getattribute__\u001b[39m(key)\n\u001b[1;32m-> 1666\u001b[0m \u001b[43mrequires_backends\u001b[49m\u001b[43m(\u001b[49m\u001b[38;5;28;43mcls\u001b[39;49m\u001b[43m,\u001b[49m\u001b[43m \u001b[49m\u001b[38;5;28;43mcls\u001b[39;49m\u001b[38;5;241;43m.\u001b[39;49m\u001b[43m_backends\u001b[49m\u001b[43m)\u001b[49m\n",
      "File \u001b[1;32mc:\\Users\\bored\\Music\\Model_Deployment\\awsvenv\\Lib\\site-packages\\transformers\\utils\\import_utils.py:1654\u001b[0m, in \u001b[0;36mrequires_backends\u001b[1;34m(obj, backends)\u001b[0m\n\u001b[0;32m   1652\u001b[0m failed \u001b[38;5;241m=\u001b[39m [msg\u001b[38;5;241m.\u001b[39mformat(name) \u001b[38;5;28;01mfor\u001b[39;00m available, msg \u001b[38;5;129;01min\u001b[39;00m checks \u001b[38;5;28;01mif\u001b[39;00m \u001b[38;5;129;01mnot\u001b[39;00m available()]\n\u001b[0;32m   1653\u001b[0m \u001b[38;5;28;01mif\u001b[39;00m failed:\n\u001b[1;32m-> 1654\u001b[0m     \u001b[38;5;28;01mraise\u001b[39;00m \u001b[38;5;167;01mImportError\u001b[39;00m(\u001b[38;5;124m\"\u001b[39m\u001b[38;5;124m\"\u001b[39m\u001b[38;5;241m.\u001b[39mjoin(failed))\n",
      "\u001b[1;31mImportError\u001b[0m: \nViTImageProcessorFast requires the Torchvision library but it was not found in your environment. Checkout the instructions on the\ninstallation page: https://pytorch.org/get-started/locally/ and follow the ones that match your environment.\nPlease note that you may need to restart your runtime after installation.\n"
     ]
    }
   ],
   "source": [
    "image_processor = AutoImageProcessor.from_pretrained(model_name)"
   ]
  },
  {
   "cell_type": "code",
   "execution_count": 21,
   "metadata": {},
   "outputs": [],
   "source": [
    "import os"
   ]
  },
  {
   "cell_type": "code",
   "execution_count": 23,
   "metadata": {},
   "outputs": [],
   "source": [
    "os.makedirs('Models/images/temp.jpg')"
   ]
  },
  {
   "cell_type": "code",
   "execution_count": null,
   "metadata": {},
   "outputs": [],
   "source": []
  }
 ],
 "metadata": {
  "kernelspec": {
   "display_name": "awsvenv",
   "language": "python",
   "name": "python3"
  },
  "language_info": {
   "codemirror_mode": {
    "name": "ipython",
    "version": 3
   },
   "file_extension": ".py",
   "mimetype": "text/x-python",
   "name": "python",
   "nbconvert_exporter": "python",
   "pygments_lexer": "ipython3",
   "version": "3.12.3"
  }
 },
 "nbformat": 4,
 "nbformat_minor": 2
}
