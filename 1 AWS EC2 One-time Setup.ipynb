{
 "cells": [
  {
   "cell_type": "markdown",
   "metadata": {},
   "source": [
    "## Check if Instance is Present"
   ]
  },
  {
   "cell_type": "code",
   "execution_count": 1,
   "metadata": {},
   "outputs": [
    {
     "name": "stdout",
     "output_type": "stream",
     "text": [
      "No instance found with name prahalad_ec2\n"
     ]
    },
    {
     "data": {
      "text/plain": [
       "''"
      ]
     },
     "execution_count": 1,
     "metadata": {},
     "output_type": "execute_result"
    }
   ],
   "source": [
    "import boto3\n",
    "\n",
    "ec2 = boto3.client('ec2')\n",
    "\n",
    "response = ec2.describe_instances()\n",
    "\n",
    "instance_name = \"prahalad_ec2\"\n",
    "\n",
    "instance_id=\"\" \n",
    "\n",
    "for resp in response['Reservations']:\n",
    "    resp = resp['Instances'][0]\n",
    "    tags = resp.get('Tags', [])\n",
    "    \n",
    "    for tag in tags:\n",
    "        if tag.get(\"Key\", \"\")==\"Name\" and tag.get(\"Value\", \"\")==instance_name:\n",
    "            instance_id = resp['InstanceId']\n",
    "\n",
    "if instance_id==\"\":\n",
    "    print(f\"No instance found with name {instance_name}\")\n",
    "\n",
    "instance_id"
   ]
  },
  {
   "cell_type": "markdown",
   "metadata": {},
   "source": [
    "## Create an Amazon EC2 instance"
   ]
  },
  {
   "cell_type": "code",
   "execution_count": 3,
   "metadata": {},
   "outputs": [],
   "source": [
    "import boto3\n",
    "\n",
    "ec2 = boto3.client('ec2')\n",
    "\n",
    "if instance_id == \"\":\n",
    "    response = ec2.run_instances(\n",
    "        ImageId = 'ami-0772e0bfc7cc9c5de',\n",
    "        MinCount=1,\n",
    "        MaxCount=1,\n",
    "        InstanceType='t2.large',\n",
    "        KeyName='Prahalad_ReddyKEY',\n",
    "        BlockDeviceMappings=[\n",
    "            {\n",
    "                \"DeviceName\": \"/dev/xvda\",\n",
    "                'Ebs':{\n",
    "                    'DeleteOnTermination': True,\n",
    "                    'VolumeSize': 120\n",
    "                }\n",
    "            }\n",
    "        ]\n",
    "\n",
    "    )\n",
    "\n",
    "    instance_id = response['Instances'][0]['InstanceId']\n",
    "\n",
    "    ec2.create_tags(Resources=[instance_id], Tags=[\n",
    "        {\n",
    "            'Key':'Name',\n",
    "            'Value':instance_name\n",
    "        }\n",
    "    ])\n",
    "\n",
    "else:\n",
    "    print(\"Instance is already present\")"
   ]
  },
  {
   "cell_type": "markdown",
   "metadata": {},
   "source": [
    "## Create Security Group and add rules to it\n",
    "- Security groups control inbound and outbound traffic of the EC2 instance network interface.\n",
    "- every EC2 instance must have at least one Security Group associated with it. If no Security Group has been specified during the EC2 instance launch, the default Security Group of the default VPC is associated with the instance."
   ]
  },
  {
   "cell_type": "code",
   "execution_count": 4,
   "metadata": {},
   "outputs": [
    {
     "data": {
      "text/plain": [
       "'sg-0fb8d4cfecc64d7e5'"
      ]
     },
     "execution_count": 4,
     "metadata": {},
     "output_type": "execute_result"
    }
   ],
   "source": [
    "group_name = 'prahald'\n",
    "\n",
    "response = ec2.describe_security_groups()\n",
    "\n",
    "security_group_id = [x['GroupId'] for x in response['SecurityGroups'] if x['GroupName']==group_name]\n",
    "\n",
    "if security_group_id == []:\n",
    "    response = ec2.create_security_group(\n",
    "        GroupName = group_name,\n",
    "        Description = \"Security group for testing\"\n",
    "    )\n",
    "    security_group_id = response['GroupId']\n",
    "else:\n",
    "    security_group_id = security_group_id[0]\n",
    "\n",
    "security_group_id"
   ]
  },
  {
   "cell_type": "code",
   "execution_count": 5,
   "metadata": {},
   "outputs": [],
   "source": [
    "from botocore.exceptions import ClientError\n",
    "\n",
    "def update_security_group(group_id, protocol, port, cidr):\n",
    "    try:\n",
    "        response = ec2.authorize_security_group_ingress(\n",
    "            GroupId = group_id,\n",
    "            IpPermissions=[\n",
    "                {\n",
    "                    'IpProtocol': protocol,\n",
    "                    'FromPort': port,\n",
    "                    'ToPort': port,\n",
    "                    'IpRanges': [{'CidrIp': cidr}]\n",
    "                }\n",
    "            ]\n",
    "        )\n",
    "    except ClientError as e:\n",
    "        if e.response['Error']['Code']=='InvalidPermission.Duplicate':\n",
    "            print('This rule is already there')\n",
    "        else:\n",
    "            print(\"an error as occured!\")\n",
    "            print(e)\n",
    "\n",
    "update_security_group(security_group_id, 'tcp', 22, '0.0.0.0/0')\n",
    "update_security_group(security_group_id, 'tcp', 80, '0.0.0.0/0')\n",
    "update_security_group(security_group_id, 'tcp', 8501, '0.0.0.0/0')\n",
    "update_security_group(security_group_id, 'tcp', 8502, '0.0.0.0/0')"
   ]
  },
  {
   "cell_type": "code",
   "execution_count": 6,
   "metadata": {},
   "outputs": [
    {
     "data": {
      "text/plain": [
       "{'ResponseMetadata': {'RequestId': 'be8a5b4a-e5e9-487d-bd4b-a243305a7e95',\n",
       "  'HTTPStatusCode': 200,\n",
       "  'HTTPHeaders': {'x-amzn-requestid': 'be8a5b4a-e5e9-487d-bd4b-a243305a7e95',\n",
       "   'cache-control': 'no-cache, no-store',\n",
       "   'strict-transport-security': 'max-age=31536000; includeSubDomains',\n",
       "   'content-type': 'text/xml;charset=UTF-8',\n",
       "   'content-length': '235',\n",
       "   'date': 'Tue, 31 Dec 2024 11:32:21 GMT',\n",
       "   'server': 'AmazonEC2'},\n",
       "  'RetryAttempts': 0}}"
      ]
     },
     "execution_count": 6,
     "metadata": {},
     "output_type": "execute_result"
    }
   ],
   "source": [
    "ec2.modify_instance_attribute(InstanceId=instance_id, Groups=[security_group_id])"
   ]
  },
  {
   "cell_type": "markdown",
   "metadata": {},
   "source": [
    "## Attach S3 Policy to EC2 Instance"
   ]
  },
  {
   "cell_type": "code",
   "execution_count": 6,
   "metadata": {},
   "outputs": [
    {
     "data": {
      "text/plain": [
       "{'IamInstanceProfileAssociation': {'AssociationId': 'iip-assoc-005620e6c249a116f',\n",
       "  'InstanceId': 'i-00ce7804abca18c47',\n",
       "  'IamInstanceProfile': {'Arn': 'arn:aws:iam::539320159019:instance-profile/ec2-s3-full-access',\n",
       "   'Id': 'AIPAX3EP4RMVWCBMURPGY'},\n",
       "  'State': 'associating'},\n",
       " 'ResponseMetadata': {'RequestId': '3811198f-03fe-4b9f-9e39-838301d6de88',\n",
       "  'HTTPStatusCode': 200,\n",
       "  'HTTPHeaders': {'x-amzn-requestid': '3811198f-03fe-4b9f-9e39-838301d6de88',\n",
       "   'cache-control': 'no-cache, no-store',\n",
       "   'strict-transport-security': 'max-age=31536000; includeSubDomains',\n",
       "   'vary': 'accept-encoding',\n",
       "   'content-type': 'text/xml;charset=UTF-8',\n",
       "   'transfer-encoding': 'chunked',\n",
       "   'date': 'Wed, 07 Aug 2024 08:36:57 GMT',\n",
       "   'server': 'AmazonEC2'},\n",
       "  'RetryAttempts': 0}}"
      ]
     },
     "execution_count": 6,
     "metadata": {},
     "output_type": "execute_result"
    }
   ],
   "source": [
    "# describe IAM role\n",
    "iam = boto3.client('iam')\n",
    "\n",
    "role_name = \"ec2-s3-full-access\"\n",
    "\n",
    "response = iam.get_role(RoleName=role_name)\n",
    "\n",
    "role_arn = response['Role']['Arn']\n",
    "\n",
    "role_arn\n",
    "\n",
    "# Ensure there is an instance profile with the same name as the role\n",
    "instance_profile_name = role_name\n",
    "try:\n",
    "    iam.get_instance_profile(InstanceProfileName=instance_profile_name)\n",
    "except iam.exceptions.NoSuchEntityException:\n",
    "    # Create an instance profile if it doesn't exist\n",
    "    iam.create_instance_profile(InstanceProfileName=instance_profile_name)\n",
    "    # Add role to the instance profile\n",
    "    iam.add_role_to_instance_profile(\n",
    "        InstanceProfileName=instance_profile_name,\n",
    "        RoleName=role_name\n",
    "    )\n",
    "\n",
    "# Attach the instance profile to the EC2 instance\n",
    "ec2.associate_iam_instance_profile(\n",
    "    IamInstanceProfile={\n",
    "        'Name': instance_profile_name\n",
    "    },\n",
    "    InstanceId=instance_id\n",
    ")"
   ]
  },
  {
   "cell_type": "code",
   "execution_count": null,
   "metadata": {},
   "outputs": [],
   "source": []
  },
  {
   "cell_type": "markdown",
   "metadata": {},
   "source": [
    "### Terminate"
   ]
  },
  {
   "cell_type": "code",
   "execution_count": null,
   "metadata": {},
   "outputs": [],
   "source": [
    "import time\n",
    "\n",
    "def wait_for_status(instance_id, target_status):\n",
    "    while True:\n",
    "        response = ec2.describe_instances(InstanceIds=instance_id)\n",
    "\n",
    "        status = response['Reservations'][0]['Instances'][0]['State']['Name']\n",
    "\n",
    "        if status == target_status:\n",
    "            print(\"Instance is in {} state\".format(target_status))\n",
    "            break\n",
    "        \n",
    "        time.sleep(10)\n",
    "\n",
    "def terminate_instances(instance_id):\n",
    "    print(\"EC2 Instance Termination\")\n",
    "    ec2.terminate_instances(InstanceIds=instance_id)\n",
    "\n",
    "    wait_for_status(instance_id, 'terminated')\n",
    "\n",
    "# terminate_instances([instance_id])"
   ]
  },
  {
   "cell_type": "code",
   "execution_count": null,
   "metadata": {},
   "outputs": [],
   "source": []
  }
 ],
 "metadata": {
  "kernelspec": {
   "display_name": "awsvenv",
   "language": "python",
   "name": "python3"
  },
  "language_info": {
   "codemirror_mode": {
    "name": "ipython",
    "version": 3
   },
   "file_extension": ".py",
   "mimetype": "text/x-python",
   "name": "python",
   "nbconvert_exporter": "python",
   "pygments_lexer": "ipython3",
   "version": "3.12.3"
  }
 },
 "nbformat": 4,
 "nbformat_minor": 4
}
