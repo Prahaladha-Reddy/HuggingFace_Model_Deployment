{
 "cells": [
  {
   "cell_type": "code",
   "execution_count": 1,
   "metadata": {},
   "outputs": [],
   "source": [
    "import boto3"
   ]
  },
  {
   "cell_type": "code",
   "execution_count": 2,
   "metadata": {},
   "outputs": [],
   "source": [
    "s3=boto3.client('s3')"
   ]
  },
  {
   "cell_type": "code",
   "execution_count": 3,
   "metadata": {},
   "outputs": [
    {
     "data": {
      "text/plain": [
       "{'ResponseMetadata': {'RequestId': '4YK9RXA85T6VGBEJ',\n",
       "  'HostId': 'SOW2L3KrvYJ7BxsujrBPUkbKe4z/4ae5bmgoLxaUb23HRVptnozfw5cFL7zUjxE9eUph8H7L0Y8=',\n",
       "  'HTTPStatusCode': 200,\n",
       "  'HTTPHeaders': {'x-amz-id-2': 'SOW2L3KrvYJ7BxsujrBPUkbKe4z/4ae5bmgoLxaUb23HRVptnozfw5cFL7zUjxE9eUph8H7L0Y8=',\n",
       "   'x-amz-request-id': '4YK9RXA85T6VGBEJ',\n",
       "   'date': 'Sat, 28 Dec 2024 17:41:40 GMT',\n",
       "   'content-type': 'application/xml',\n",
       "   'transfer-encoding': 'chunked',\n",
       "   'server': 'AmazonS3'},\n",
       "  'RetryAttempts': 0},\n",
       " 'Buckets': [],\n",
       " 'Owner': {'DisplayName': 'boreddyprahaladhareddy',\n",
       "  'ID': 'ab93d5351552cae394fbb87b443f96c87747da8fe4bd5dea236ea465aecaf001'}}"
      ]
     },
     "execution_count": 3,
     "metadata": {},
     "output_type": "execute_result"
    }
   ],
   "source": [
    "s3.list_buckets()"
   ]
  },
  {
   "cell_type": "code",
   "execution_count": 4,
   "metadata": {},
   "outputs": [],
   "source": [
    "def create_bucket(bucket_name):\n",
    "  s3.create_bucket(Bucket=bucket_name)\n",
    "  print('Bucket is created')"
   ]
  },
  {
   "cell_type": "code",
   "execution_count": 10,
   "metadata": {},
   "outputs": [],
   "source": [
    "bucket_name = 'sreenu-bucket-1234'\n"
   ]
  },
  {
   "cell_type": "code",
   "execution_count": 11,
   "metadata": {},
   "outputs": [
    {
     "name": "stdout",
     "output_type": "stream",
     "text": [
      "Bucket is created\n"
     ]
    }
   ],
   "source": [
    "create_bucket(bucket_name)"
   ]
  },
  {
   "cell_type": "code",
   "execution_count": 12,
   "metadata": {},
   "outputs": [
    {
     "data": {
      "text/plain": [
       "{'ResponseMetadata': {'RequestId': 'ZJTVQXKVCZ0SDTJ5',\n",
       "  'HostId': 'QjLc64BXElvII1UDGfdom/s5SmfvkT4iSCLNOQXd/wAOteMiHf+dxij23sQAEhdnxD8ZodpZ+0o=',\n",
       "  'HTTPStatusCode': 200,\n",
       "  'HTTPHeaders': {'x-amz-id-2': 'QjLc64BXElvII1UDGfdom/s5SmfvkT4iSCLNOQXd/wAOteMiHf+dxij23sQAEhdnxD8ZodpZ+0o=',\n",
       "   'x-amz-request-id': 'ZJTVQXKVCZ0SDTJ5',\n",
       "   'date': 'Sat, 28 Dec 2024 17:46:15 GMT',\n",
       "   'content-type': 'application/xml',\n",
       "   'transfer-encoding': 'chunked',\n",
       "   'server': 'AmazonS3'},\n",
       "  'RetryAttempts': 0},\n",
       " 'Buckets': [{'Name': 'sreenu-bucket-1234',\n",
       "   'CreationDate': datetime.datetime(2024, 12, 28, 17, 46, tzinfo=tzutc())}],\n",
       " 'Owner': {'DisplayName': 'boreddyprahaladhareddy',\n",
       "  'ID': 'ab93d5351552cae394fbb87b443f96c87747da8fe4bd5dea236ea465aecaf001'}}"
      ]
     },
     "execution_count": 12,
     "metadata": {},
     "output_type": "execute_result"
    }
   ],
   "source": [
    "s3.list_buckets()"
   ]
  },
  {
   "cell_type": "code",
   "execution_count": 13,
   "metadata": {},
   "outputs": [],
   "source": [
    "import os\n",
    "def upload_file(file_path,object_name=None):\n",
    "  if object_name is None:\n",
    "    object_name=os.path.basename(file_path)\n",
    "  s3.upload_file(file_path,bucket_name,object_name)\n",
    "  "
   ]
  },
  {
   "cell_type": "code",
   "execution_count": 14,
   "metadata": {},
   "outputs": [],
   "source": [
    "upload_file('creds/Prahalad_ReddyKEY.pem')"
   ]
  },
  {
   "cell_type": "code",
   "execution_count": 16,
   "metadata": {},
   "outputs": [],
   "source": [
    "def list_objects(bucket_name):\n",
    "  response=s3.list_objects_v2(Bucket=bucket_name)\n",
    "  for obj in response['Contents']:\n",
    "    print(obj)\n"
   ]
  },
  {
   "cell_type": "code",
   "execution_count": 25,
   "metadata": {},
   "outputs": [
    {
     "name": "stdout",
     "output_type": "stream",
     "text": [
      "{'Key': 'Prahalad_ReddyKEY.pem', 'LastModified': datetime.datetime(2024, 12, 28, 17, 51, 37, tzinfo=tzutc()), 'ETag': '\"cddc810234be2f62b46a2f6ec7cc4c20\"', 'Size': 1700, 'StorageClass': 'STANDARD'}\n",
      "{'Key': 's3_key/Prahalad_ReddyKEY.pem', 'LastModified': datetime.datetime(2024, 12, 28, 18, 20, 52, tzinfo=tzutc()), 'ETag': '\"cddc810234be2f62b46a2f6ec7cc4c20\"', 'Size': 1700, 'StorageClass': 'STANDARD'}\n",
      "{'Key': 's3_key/pragalad_EC2', 'LastModified': datetime.datetime(2024, 12, 28, 18, 20, 51, tzinfo=tzutc()), 'ETag': '\"1cf688be20e3772e30ef2b43ef75bb17\"', 'Size': 1700, 'StorageClass': 'STANDARD'}\n"
     ]
    }
   ],
   "source": [
    "list_objects(bucket_name)"
   ]
  },
  {
   "cell_type": "code",
   "execution_count": 18,
   "metadata": {},
   "outputs": [],
   "source": [
    "def download_file(object_name,file_path):\n",
    "  if not os.path.exists(os.path.dirname(file_path)):\n",
    "    os.makedirs(os.path.dirname(file_path))\n",
    "  s3.download_file(bucket_name,object_name,file_path)\n",
    "  "
   ]
  },
  {
   "cell_type": "code",
   "execution_count": 19,
   "metadata": {},
   "outputs": [],
   "source": [
    "download_file('Prahalad_ReddyKEY.pem','data_download/Prahalad_ReddyKEY.pem')"
   ]
  },
  {
   "cell_type": "code",
   "execution_count": 20,
   "metadata": {},
   "outputs": [
    {
     "name": "stdout",
     "output_type": "stream",
     "text": [
      "data_download [] ['Prahalad_ReddyKEY.pem']\n"
     ]
    }
   ],
   "source": [
    "for root,dirs,files in os.walk('data_download'):\n",
    "  print(root,dirs,files)"
   ]
  },
  {
   "cell_type": "code",
   "execution_count": 21,
   "metadata": {},
   "outputs": [],
   "source": [
    "def upload_directory(directory_path,s3_prefix):\n",
    "  for root,dirs,files in os.walk(directory_path):\n",
    "    for file in files:\n",
    "      file_path=os.path.join(root,file).replace('\\\\','/')\n",
    "      real_path=os.path.relpath(file_path,directory_path)\n",
    "      print(real_path)\n",
    "      s3_key=os.path.join(s3_prefix,real_path).replace('\\\\','/')\n",
    "      s3.upload_file(file_path,bucket_name,s3_key)\n"
   ]
  },
  {
   "cell_type": "code",
   "execution_count": 24,
   "metadata": {},
   "outputs": [
    {
     "name": "stdout",
     "output_type": "stream",
     "text": [
      "pragalad_EC2\n",
      "Prahalad_ReddyKEY.pem\n"
     ]
    }
   ],
   "source": [
    "upload_directory('creds','s3_key')"
   ]
  },
  {
   "cell_type": "code",
   "execution_count": 27,
   "metadata": {},
   "outputs": [],
   "source": [
    "local_path='s3_download'\n",
    "s3_prefix='s3_key'"
   ]
  },
  {
   "cell_type": "code",
   "execution_count": 29,
   "metadata": {},
   "outputs": [],
   "source": [
    "paginator = s3.get_paginator('list_objects_v2')\n",
    "for result in paginator.paginate(Bucket=bucket_name, Prefix=s3_prefix):\n",
    "    if 'Contents' in result:\n",
    "        for key in result['Contents']:\n",
    "            s3_key = key['Key']\n",
    "\n",
    "            # Build the file path\n",
    "            file_path = os.path.join(local_path, os.path.relpath(s3_key, s3_prefix))\n",
    "            \n",
    "            # Ensure parent directories exist\n",
    "            os.makedirs(os.path.dirname(file_path), exist_ok=True)\n",
    "            \n",
    "            # Download the file\n",
    "            s3.download_file(bucket_name, s3_key, file_path)\n"
   ]
  },
  {
   "cell_type": "code",
   "execution_count": 30,
   "metadata": {},
   "outputs": [],
   "source": [
    "def delete_objects():\n",
    "  response=s3.list_objects_v2(Bucket=bucket_name)\n",
    "  if 'Contents' in response:\n",
    "    \n",
    "    for obj in response['Contents']:\n",
    "      s3.delete_object(Bucket=bucket_name,Key=obj['Key'])\n",
    "\n",
    "delete_objects()      "
   ]
  },
  {
   "cell_type": "code",
   "execution_count": 31,
   "metadata": {},
   "outputs": [
    {
     "data": {
      "text/plain": [
       "{'ResponseMetadata': {'RequestId': 'SE649VT11CGXYGH5',\n",
       "  'HostId': 'UUNMPa196+hcbuLK03bVg57VAS9p//r7fLoUAyc5bOm7yF4WJubG3g/HIPQv3PzsCWYdtw/xoCjcAlBYddaBXj2tWfm142rnC/0G++fUykw=',\n",
       "  'HTTPStatusCode': 204,\n",
       "  'HTTPHeaders': {'x-amz-id-2': 'UUNMPa196+hcbuLK03bVg57VAS9p//r7fLoUAyc5bOm7yF4WJubG3g/HIPQv3PzsCWYdtw/xoCjcAlBYddaBXj2tWfm142rnC/0G++fUykw=',\n",
       "   'x-amz-request-id': 'SE649VT11CGXYGH5',\n",
       "   'date': 'Sat, 28 Dec 2024 18:58:33 GMT',\n",
       "   'server': 'AmazonS3'},\n",
       "  'RetryAttempts': 0}}"
      ]
     },
     "execution_count": 31,
     "metadata": {},
     "output_type": "execute_result"
    }
   ],
   "source": [
    "s3.delete_bucket(Bucket=bucket_name)"
   ]
  },
  {
   "cell_type": "code",
   "execution_count": null,
   "metadata": {},
   "outputs": [],
   "source": []
  }
 ],
 "metadata": {
  "kernelspec": {
   "display_name": "awsvenv",
   "language": "python",
   "name": "python3"
  },
  "language_info": {
   "codemirror_mode": {
    "name": "ipython",
    "version": 3
   },
   "file_extension": ".py",
   "mimetype": "text/x-python",
   "name": "python",
   "nbconvert_exporter": "python",
   "pygments_lexer": "ipython3",
   "version": "3.12.3"
  }
 },
 "nbformat": 4,
 "nbformat_minor": 2
}
